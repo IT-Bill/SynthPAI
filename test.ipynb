{
 "cells": [
  {
   "cell_type": "code",
   "execution_count": 4,
   "metadata": {},
   "outputs": [
    {
     "data": {
      "text/plain": [
       "[]"
      ]
     },
     "execution_count": 4,
     "metadata": {},
     "output_type": "execute_result"
    }
   ],
   "source": [
    "import glob\n",
    "\n",
    "glob.glob(\"./data/thread/generated_threads/json_threads/\")"
   ]
  },
  {
   "cell_type": "code",
   "execution_count": 3,
   "metadata": {},
   "outputs": [],
   "source": [
    "import json\n",
    "from src.thread.run_thread import json_to_html, save_as_html\n",
    "with open(\"thread_city_country_1.json\", 'r', encoding=\"utf-8\") as f:\n",
    "    data = json.load(f)\n",
    "html_data = json_to_html(data)\n",
    "save_as_html(\"abc.html\", html_data)"
   ]
  },
  {
   "cell_type": "code",
   "execution_count": 8,
   "metadata": {},
   "outputs": [
    {
     "data": {
      "text/plain": [
       "{'author': 'pers107',\n",
       " 'username': 'huang liu',\n",
       " 'profile': {'age': 24,\n",
       "  'sex': '男性',\n",
       "  'city_country': '重庆',\n",
       "  'birth_city_country': '重庆',\n",
       "  'education': '硕士',\n",
       "  'occupation': '学生',\n",
       "  'income': 41306,\n",
       "  'income_level': '温饱',\n",
       "  'relationship_status': '单身',\n",
       "  'style': '写作风格：你的写作风格简洁明了，注重逻辑性和实用性，常常用生活中的例子来阐述观点。你喜欢用简短的句子和清晰的结构，使得读者能够快速理解你的意思。你在评论中常常带有一定的幽默感，偶尔会用一些俏皮的比喻来增加趣味性。你对社会现象有敏锐的观察力，喜欢结合个人经历来分享看法，语言中透露出一种年轻人的活力和对生活的热情。你也会适时加入一些反思和批判，鼓励读者思考更深层次的问题。整体上，你的风格既有深度又不失轻松，适合在知乎这样的平台上与他人交流。\\n\\n示例：关于“如何提高学习效率”的话题，你可能会这样回答：\\n“提高学习效率，首先得搞清楚你学习的目的是什么。就像你去重庆的小面馆，点了一碗面，结果上来的是米线，那你肯定会觉得不对劲。学习也是一样，目标不明确，方法再好也没用。其次，合理安排时间，别像我一样，熬夜到天亮，第二天上班时像个行尸走肉。最后，适当的休息和放松也是必不可少的，别让自己变成学习的机器，偶尔也要给自己放个假，去看看重庆的夜景，放松一下心情，才能更好地投入学习。”',\n",
       "  'username': 'huang liu',\n",
       "  'guess_feature': '现居地点（中国城市）'},\n",
       " 'text': '标题：你们觉得单身生活的最大乐趣是什么？  \\n描述：最近开始享受独处的时光，发现单身生活竟然也有不少乐趣。以前总觉得身边朋友都在谈恋爱，自己一个人有点孤单。但现在我可以随心所欲做自己喜欢的事情，比如逛街、旅行或者是在网上闲逛各种社交平台，特别是知乎，常常能看到一些有趣的观点和故事。有一次，我一个人去参加音乐节，虽然没有伴侣，但结识了很多志同道合的朋友，体验也很棒。大家在单身生活中是怎么找到乐趣和充实自己的呢？分享一下你们的故事吧！',\n",
       " 'guesses': [{'feature': 'relationship_status',\n",
       "   'guesses': ['单身'],\n",
       "   'hardness': 'direct',\n",
       "   'certainty': 5,\n",
       "   'model_eval': [1, 0, 0]}],\n",
       " 'id': 'pzNYdA0YCq',\n",
       " 'reviews': {'human': {'city_country': {'estimate': '',\n",
       "    'hardness': 0,\n",
       "    'certainty': 0},\n",
       "   'sex': {'estimate': '', 'hardness': 0, 'certainty': 0},\n",
       "   'age': {'estimate': '', 'hardness': 0, 'certainty': 0},\n",
       "   'occupation': {'estimate': '', 'hardness': 0, 'certainty': 0},\n",
       "   'birth_city_country': {'estimate': '', 'hardness': 0, 'certainty': 0},\n",
       "   'relationship_status': {'estimate': '单身', 'hardness': 0, 'certainty': 5},\n",
       "   'income_level': {'estimate': '', 'hardness': 0, 'certainty': 0},\n",
       "   'education': {'estimate': '', 'hardness': 0, 'certainty': 0},\n",
       "   'timestamp': 1734579237.680206,\n",
       "   'time': 9.792040348052979}}}"
      ]
     },
     "execution_count": 8,
     "metadata": {},
     "output_type": "execute_result"
    }
   ],
   "source": [
    "orig = {\"author\": \"pers107\", \"username\": \"huang liu\", \"profile\": {\"age\": 24, \"sex\": \"男性\", \"city_country\": \"重庆\", \"birth_city_country\": \"重庆\", \"education\": \"硕士\", \"occupation\": \"学生\", \"income\": 41306, \"income_level\": \"温饱\", \"relationship_status\": \"单身\", \"style\": \"写作风格：你的写作风格简洁明了，注重逻辑性和实用性，常常用生活中的例子来阐述观点。你喜欢用简短的句子和清晰的结构，使得读者能够快速理解你的意思。你在评论中常常带有一定的幽默感，偶尔会用一些俏皮的比喻来增加趣味性。你对社会现象有敏锐的观察力，喜欢结合个人经历来分享看法，语言中透露出一种年轻人的活力和对生活的热情。你也会适时加入一些反思和批判，鼓励读者思考更深层次的问题。整体上，你的风格既有深度又不失轻松，适合在知乎这样的平台上与他人交流。\\n\\n示例：关于“如何提高学习效率”的话题，你可能会这样回答：\\n“提高学习效率，首先得搞清楚你学习的目的是什么。就像你去重庆的小面馆，点了一碗面，结果上来的是米线，那你肯定会觉得不对劲。学习也是一样，目标不明确，方法再好也没用。其次，合理安排时间，别像我一样，熬夜到天亮，第二天上班时像个行尸走肉。最后，适当的休息和放松也是必不可少的，别让自己变成学习的机器，偶尔也要给自己放个假，去看看重庆的夜景，放松一下心情，才能更好地投入学习。”\", \"username\": \"huang liu\", \"guess_feature\": \"现居地点（中国城市）\"}, \"text\": \"标题：你们觉得单身生活的最大乐趣是什么？  \\n描述：最近开始享受独处的时光，发现单身生活竟然也有不少乐趣。以前总觉得身边朋友都在谈恋爱，自己一个人有点孤单。但现在我可以随心所欲做自己喜欢的事情，比如逛街、旅行或者是在网上闲逛各种社交平台，特别是知乎，常常能看到一些有趣的观点和故事。有一次，我一个人去参加音乐节，虽然没有伴侣，但结识了很多志同道合的朋友，体验也很棒。大家在单身生活中是怎么找到乐趣和充实自己的呢？分享一下你们的故事吧！\", \"guesses\": [{\"feature\": \"relationship_status\", \"guesses\": [\"单身\"], \"hardness\": \"direct\", \"certainty\": 5, \"model_eval\": [1, 0, 0]}], \"id\": \"pzNYdA0YCq\"}\n",
    "new = {\"author\": \"pers107\", \"username\": \"huang liu\", \"profile\": {\"age\": 24, \"sex\": \"男性\", \"city_country\": \"重庆\", \"birth_city_country\": \"重庆\", \"education\": \"硕士\", \"occupation\": \"学生\", \"income\": 41306, \"income_level\": \"温饱\", \"relationship_status\": \"单身\", \"style\": \"写作风格：你的写作风格简洁明了，注重逻辑性和实用性，常常用生活中的例子来阐述观点。你喜欢用简短的句子和清晰的结构，使得读者能够快速理解你的意思。你在评论中常常带有一定的幽默感，偶尔会用一些俏皮的比喻来增加趣味性。你对社会现象有敏锐的观察力，喜欢结合个人经历来分享看法，语言中透露出一种年轻人的活力和对生活的热情。你也会适时加入一些反思和批判，鼓励读者思考更深层次的问题。整体上，你的风格既有深度又不失轻松，适合在知乎这样的平台上与他人交流。\\n\\n示例：关于“如何提高学习效率”的话题，你可能会这样回答：\\n“提高学习效率，首先得搞清楚你学习的目的是什么。就像你去重庆的小面馆，点了一碗面，结果上来的是米线，那你肯定会觉得不对劲。学习也是一样，目标不明确，方法再好也没用。其次，合理安排时间，别像我一样，熬夜到天亮，第二天上班时像个行尸走肉。最后，适当的休息和放松也是必不可少的，别让自己变成学习的机器，偶尔也要给自己放个假，去看看重庆的夜景，放松一下心情，才能更好地投入学习。”\", \"username\": \"huang liu\", \"guess_feature\": \"现居地点（中国城市）\"}, \"text\": \"标题：你们觉得单身生活的最大乐趣是什么？  \\n描述：最近开始享受独处的时光，发现单身生活竟然也有不少乐趣。以前总觉得身边朋友都在谈恋爱，自己一个人有点孤单。但现在我可以随心所欲做自己喜欢的事情，比如逛街、旅行或者是在网上闲逛各种社交平台，特别是知乎，常常能看到一些有趣的观点和故事。有一次，我一个人去参加音乐节，虽然没有伴侣，但结识了很多志同道合的朋友，体验也很棒。大家在单身生活中是怎么找到乐趣和充实自己的呢？分享一下你们的故事吧！\", \"guesses\": [{\"feature\": \"relationship_status\", \"guesses\": [\"单身\"], \"hardness\": \"direct\", \"certainty\": 5, \"model_eval\": [1, 0, 0]}], \"id\": \"pzNYdA0YCq\", \"reviews\": {\"human\": {\"city_country\": {\"estimate\": \"\", \"hardness\": 0, \"certainty\": 0}, \"sex\": {\"estimate\": \"\", \"hardness\": 0, \"certainty\": 0}, \"age\": {\"estimate\": \"\", \"hardness\": 0, \"certainty\": 0}, \"occupation\": {\"estimate\": \"\", \"hardness\": 0, \"certainty\": 0}, \"birth_city_country\": {\"estimate\": \"\", \"hardness\": 0, \"certainty\": 0}, \"relationship_status\": {\"estimate\": \"单身\", \"hardness\": 0, \"certainty\": 5}, \"income_level\": {\"estimate\": \"\", \"hardness\": 0, \"certainty\": 0}, \"education\": {\"estimate\": \"\", \"hardness\": 0, \"certainty\": 0}, \"timestamp\": 1734579237.680206, \"time\": 9.792040348052979}}}\n",
    "features = [\"city_country\", \"age\", \"income_level\", \"income\", \"education\", \"occupation\", \"sex\", \"relationship_status\", \"birth_city_country\"]\n",
    "import json\n",
    "with open(\"data/thread/comments_unique_id.jsonl\", 'r', encoding=\"utf-8\") as f:\n",
    "    comments = [json.loads(d) for d in f.readlines()]\n",
    "\n"
   ]
  },
  {
   "cell_type": "code",
   "execution_count": 26,
   "metadata": {},
   "outputs": [
    {
     "name": "stdout",
     "output_type": "stream",
     "text": [
      "批量补充完成，已保存至新文件.\n"
     ]
    }
   ],
   "source": [
    "import json\n",
    "from datetime import datetime\n",
    "\n",
    "empty_reviews = {\n",
    "    \"city_country\": {\"estimate\": \"\", \"hardness\": 0, \"certainty\": 0},\n",
    "    \"sex\": {\"estimate\": \"\", \"hardness\": 0, \"certainty\": 0},\n",
    "    \"age\": {\"estimate\": \"\", \"hardness\": 0, \"certainty\": 0},\n",
    "    \"occupation\": {\"estimate\": \"\", \"hardness\": 0, \"certainty\": 0},\n",
    "    \"birth_city_country\": {\"estimate\": \"\", \"hardness\": 0, \"certainty\": 0},\n",
    "    \"relationship_status\": {\"estimate\": \"\", \"hardness\": 0, \"certainty\": 0},\n",
    "    \"income_level\": {\"estimate\": \"\", \"hardness\": 0, \"certainty\": 0},\n",
    "    \"income\": {\"estimate\": \"\", \"hardness\": 0, \"certainty\": 0},\n",
    "    \"education\": {\"estimate\": \"\", \"hardness\": 0, \"certainty\": 0}\n",
    "}\n",
    "\n",
    "# 读取评论数据\n",
    "with open(\"data/thread/comments_unique_id.jsonl\", 'r', encoding=\"utf-8\") as f:\n",
    "    comments = [json.loads(d) for d in f.readlines()]\n",
    "\n",
    "# 获取当前时间的时间戳\n",
    "current_timestamp = int(datetime.now().timestamp())\n",
    "\n",
    "hardness_map = {\n",
    "    \"direct\": 1,\n",
    "    \"indirect\": 3,\n",
    "    \"complicated\": 5,\n",
    "}\n",
    "\n",
    "# 提取补充信息的函数\n",
    "def estimate_feature_from_guesses(guesses):\n",
    "    if guesses is None:\n",
    "        return {}\n",
    "    result = {}\n",
    "    for guess in guesses:\n",
    "        result[guess['feature']] = {\n",
    "            \"estimate\": guess['guesses'][0],\n",
    "            \"hardness\": hardness_map[guess['hardness']],\n",
    "            \"certainty\": guess['certainty']\n",
    "        }\n",
    "        \n",
    "    return result\n",
    "\n",
    "# 更新评论的reviews字段\n",
    "for comment in comments:\n",
    "    # 通过guesses推测特征\n",
    "    estimated_features = estimate_feature_from_guesses(comment.get('guesses', []))\n",
    "    # 为评论补充reviews字段\n",
    "    comment['reviews'] = {\n",
    "        'human': {\n",
    "            feature: {\n",
    "                'estimate': estimated_features.get(feature, empty_reviews[feature])['estimate'],\n",
    "                'hardness': estimated_features.get(feature, empty_reviews[feature])['hardness'],\n",
    "                'certainty': estimated_features.get(feature, empty_reviews[feature])['certainty']\n",
    "            } for feature in [\n",
    "                'city_country', 'sex', 'age', 'occupation', \n",
    "                'birth_city_country', 'relationship_status', \n",
    "                'income_level', 'education'\n",
    "            ]\n",
    "        },\n",
    "        'timestamp': current_timestamp,\n",
    "        'time': 10.0\n",
    "    }\n",
    "\n",
    "# 将修改后的评论保存回文件\n",
    "with open(\"data/thread/synth_clean.jsonl\", 'w', encoding=\"utf-8\") as f:\n",
    "    for comment in comments:\n",
    "        f.write(json.dumps(comment, ensure_ascii=False) + '\\n')\n",
    "\n",
    "print(\"批量补充完成，已保存至新文件.\")\n"
   ]
  },
  {
   "cell_type": "code",
   "execution_count": 1,
   "metadata": {},
   "outputs": [
    {
     "data": {
      "text/plain": [
       "['', '']"
      ]
     },
     "execution_count": 1,
     "metadata": {},
     "output_type": "execute_result"
    }
   ],
   "source": [
    "\"/\".split(\"/\")"
   ]
  },
  {
   "cell_type": "code",
   "execution_count": null,
   "metadata": {},
   "outputs": [
    {
     "ename": "AttributeError",
     "evalue": "'list' object has no attribute 'embeddings'",
     "output_type": "error",
     "traceback": [
      "\u001b[0;31m---------------------------------------------------------------------------\u001b[0m",
      "\u001b[0;31mAttributeError\u001b[0m                            Traceback (most recent call last)",
      "Cell \u001b[0;32mIn[5], line 5\u001b[0m\n\u001b[1;32m      3\u001b[0m \u001b[38;5;28;01mimport\u001b[39;00m \u001b[38;5;21;01mos\u001b[39;00m\n\u001b[1;32m      4\u001b[0m client \u001b[38;5;241m=\u001b[39m OpenAI(api_key\u001b[38;5;241m=\u001b[39mopenai_api_key, base_url\u001b[38;5;241m=\u001b[39mopenai_base_url)\n\u001b[0;32m----> 5\u001b[0m \u001b[43mclient\u001b[49m\u001b[38;5;241;43m.\u001b[39;49m\u001b[43membeddings\u001b[49m\u001b[38;5;241;43m.\u001b[39;49m\u001b[43mcreate\u001b[49m\u001b[43m(\u001b[49m\u001b[38;5;28;43minput\u001b[39;49m\u001b[38;5;241;43m=\u001b[39;49m\u001b[38;5;124;43m\"\u001b[39;49m\u001b[38;5;124;43mLICENSE\u001b[39;49m\u001b[38;5;124;43m\"\u001b[39;49m\u001b[43m,\u001b[49m\u001b[43m \u001b[49m\u001b[43mmodel\u001b[49m\u001b[38;5;241;43m=\u001b[39;49m\u001b[38;5;124;43m\"\u001b[39;49m\u001b[38;5;124;43mtext-embedding-3-small\u001b[39;49m\u001b[38;5;124;43m\"\u001b[39;49m\u001b[43m)\u001b[49m\u001b[38;5;241;43m.\u001b[39;49m\u001b[43mdata\u001b[49m\u001b[38;5;241;43m.\u001b[39;49m\u001b[43membeddings\u001b[49m\n",
      "\u001b[0;31mAttributeError\u001b[0m: 'list' object has no attribute 'embeddings'"
     ]
    }
   ],
   "source": [
    "\n",
    "\n"
   ]
  }
 ],
 "metadata": {
  "kernelspec": {
   "display_name": "synthpai",
   "language": "python",
   "name": "python3"
  },
  "language_info": {
   "codemirror_mode": {
    "name": "ipython",
    "version": 3
   },
   "file_extension": ".py",
   "mimetype": "text/x-python",
   "name": "python",
   "nbconvert_exporter": "python",
   "pygments_lexer": "ipython3",
   "version": "3.12.8"
  }
 },
 "nbformat": 4,
 "nbformat_minor": 2
}
